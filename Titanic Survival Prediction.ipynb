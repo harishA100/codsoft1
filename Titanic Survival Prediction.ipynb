{
  "cells": [
    {
      "cell_type": "code",
      "execution_count": null,
      "metadata": {
        "id": "xHgtaj3ocT_T"
      },
      "outputs": [],
      "source": [
        "import pandas as pd\n",
        "import numpy as np\n",
        "import matplotlib.pyplot as plt\n",
        "import seaborn as sns\n",
        "from sklearn.model_selection import train_test_split\n",
        "from sklearn.preprocessing import StandardScaler\n",
        "from sklearn.linear_model import LogisticRegression\n",
        "from sklearn.metrics import classification_report, accuracy_score, confusion_matrix\n",
        "\n",
        "print(\"Libraries imported successfully!\")\n"
      ]
    },
    {
      "cell_type": "code",
      "execution_count": null,
      "metadata": {
        "id": "lMrjzhSzcZzk"
      },
      "outputs": [],
      "source": [
        "# Loading the Titanic dataset\n",
        "df = pd.read_csv(\"/content/Titanic-Dataset.csv\")\n",
        "\n",
        "# Exploring the dataset\n",
        "print(df.head())\n",
        "print(df.info())"
      ]
    },
    {
      "cell_type": "code",
      "execution_count": null,
      "metadata": {
        "id": "8KlnRjUfd3ub"
      },
      "outputs": [],
      "source": [
        "data=pd.read_csv(\"/content/test.csv\")\n",
        "\n",
        "data"
      ]
    },
    {
      "cell_type": "code",
      "execution_count": null,
      "metadata": {
        "id": "AoSmE1HVilx9"
      },
      "outputs": [],
      "source": [
        "\n",
        "data.info()"
      ]
    },
    {
      "cell_type": "code",
      "execution_count": null,
      "metadata": {
        "id": "_suA-JjyiRj1"
      },
      "outputs": [],
      "source": [
        "data.shape"
      ]
    },
    {
      "cell_type": "code",
      "execution_count": null,
      "metadata": {
        "id": "jcSp9IJKjB_o"
      },
      "outputs": [],
      "source": [
        "data.isnull().sum()"
      ]
    },
    {
      "cell_type": "code",
      "execution_count": null,
      "metadata": {
        "id": "5aqeb8UNjDS_"
      },
      "outputs": [],
      "source": [
        "\n",
        "data['Age'].fillna(data['Age'].mean(),inplace=True)\n",
        "data['Embarked'].fillna(data['Embarked'].mode()[0],inplace=True)\n",
        "data['Fare'].fillna(data['Fare'].mode()[0],inplace=True)\n",
        "data.isnull().sum().sum()"
      ]
    },
    {
      "cell_type": "code",
      "execution_count": null,
      "metadata": {
        "id": "AXljkdt-jPD7"
      },
      "outputs": [],
      "source": [
        "data['Survived'].value_counts()"
      ]
    },
    {
      "cell_type": "code",
      "execution_count": null,
      "metadata": {
        "id": "ZIviG5oHjnpg"
      },
      "outputs": [],
      "source": [
        "data.describe()"
      ]
    },
    {
      "cell_type": "code",
      "execution_count": null,
      "metadata": {
        "id": "E2_9_zbUjzsj"
      },
      "outputs": [],
      "source": [
        "sns.set()\n",
        "sns.countplot(x='Survived',data=data)\n"
      ]
    },
    {
      "cell_type": "code",
      "execution_count": null,
      "metadata": {
        "id": "iQfOH1aBj5hc"
      },
      "outputs": [],
      "source": [
        "sns.countplot(x='Sex',data=data)"
      ]
    },
    {
      "cell_type": "code",
      "execution_count": null,
      "metadata": {
        "id": "MlQi3fABj-0f"
      },
      "outputs": [],
      "source": [
        "sns.countplot(x='Sex',hue='Survived',data=data)"
      ]
    },
    {
      "cell_type": "code",
      "execution_count": null,
      "metadata": {
        "id": "hjHuxVmJkBtM"
      },
      "outputs": [],
      "source": [
        "sns.countplot(x='Pclass',data=data)"
      ]
    },
    {
      "cell_type": "code",
      "execution_count": null,
      "metadata": {
        "id": "H0gzHjc1kEhd"
      },
      "outputs": [],
      "source": [
        "sns.countplot(x='Pclass',hue='Survived',data=data)"
      ]
    },
    {
      "cell_type": "code",
      "execution_count": null,
      "metadata": {
        "id": "z_i2a9KVkHaW"
      },
      "outputs": [],
      "source": [
        "data['Sex'].value_counts()"
      ]
    },
    {
      "cell_type": "code",
      "execution_count": null,
      "metadata": {
        "id": "8jTPts7nkKLb"
      },
      "outputs": [],
      "source": [
        "data['Embarked'].value_counts()\n"
      ]
    },
    {
      "cell_type": "code",
      "execution_count": null,
      "metadata": {
        "id": "e1DmRg1bkOOp"
      },
      "outputs": [],
      "source": [
        "data.replace({'Sex':{'male':0,'female':1},'Embarked':{'S':0,'C':1,'Q':2}},inplace=True)\n",
        "data"
      ]
    },
    {
      "cell_type": "code",
      "execution_count": null,
      "metadata": {
        "id": "3Ryt0zbPkTZf"
      },
      "outputs": [],
      "source": [
        "X=data.drop(columns=['PassengerId','Name','Ticket'],axis=1)\n",
        "Y=data['Survived']\n",
        "print(X)"
      ]
    },
    {
      "cell_type": "code",
      "execution_count": null,
      "metadata": {
        "id": "2ubQNbZPkY8F"
      },
      "outputs": [],
      "source": [
        "print(Y)"
      ]
    },
    {
      "cell_type": "code",
      "execution_count": null,
      "metadata": {
        "id": "ZtvVT5pVkgQl"
      },
      "outputs": [],
      "source": [
        "X_train,X_test,Y_train,Y_test=train_test_split(X,Y,test_size=0.2,random_state=2)\n",
        "print(X.shape,X_train.shape,X_test.shape)"
      ]
    },
    {
      "cell_type": "code",
      "execution_count": null,
      "metadata": {
        "id": "bSmPELwPkj6s"
      },
      "outputs": [],
      "source": [
        "model=LogisticRegression()\n",
        "model.fit(X_train,Y_train)"
      ]
    },
    {
      "cell_type": "code",
      "execution_count": null,
      "metadata": {
        "id": "cExiuNQmkoN7"
      },
      "outputs": [],
      "source": [
        "X_train_prediction=model.predict(X_train)\n",
        "print(X_train_prediction)"
      ]
    },
    {
      "cell_type": "code",
      "execution_count": null,
      "metadata": {
        "id": "0fzb1dTbk3YQ"
      },
      "outputs": [],
      "source": [
        "train_data_accuracy=accuracy_score(Y_train,X_train_prediction)\n",
        "print(\"Accuracy Score of training data: \",train_data_accuracy)"
      ]
    },
    {
      "cell_type": "code",
      "execution_count": null,
      "metadata": {
        "id": "ZrtBPW4Ek7SZ"
      },
      "outputs": [],
      "source": [
        "X_test_prediction=model.predict(X_test)\n",
        "print(X_test_prediction)"
      ]
    },
    {
      "cell_type": "code",
      "execution_count": null,
      "metadata": {
        "id": "VPWqPvR7lFj8"
      },
      "outputs": [],
      "source": [
        "test_data_accuracy=accuracy_score(Y_test,X_test_prediction)\n",
        "print(\"Accuracy score of testing data:\",test_data_accuracy)"
      ]
    }
  ],
  "metadata": {
    "colab": {
      "private_outputs": true,
      "provenance": []
    },
    "kernelspec": {
      "display_name": "Python 3",
      "name": "python3"
    },
    "language_info": {
      "codemirror_mode": {
        "name": "ipython",
        "version": 3
      },
      "file_extension": ".py",
      "mimetype": "text/x-python",
      "name": "python",
      "nbconvert_exporter": "python",
      "pygments_lexer": "ipython3",
      "version": "3.11.3"
    }
  },
  "nbformat": 4,
  "nbformat_minor": 0
}
